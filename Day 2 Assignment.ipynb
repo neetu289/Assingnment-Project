{
 "cells": [
  {
   "cell_type": "markdown",
   "metadata": {},
   "source": [
    "# ASSIGNMENT 1"
   ]
  },
  {
   "cell_type": "code",
   "execution_count": 7,
   "metadata": {},
   "outputs": [
    {
     "name": "stdout",
     "output_type": "stream",
     "text": [
      "1\n"
     ]
    }
   ],
   "source": [
    "add=\"H/31,ABC Colony,Delhi\"\n",
    "a=add.count(\"A\")\n",
    "print(a)"
   ]
  },
  {
   "cell_type": "code",
   "execution_count": 3,
   "metadata": {},
   "outputs": [
    {
     "name": "stdout",
     "output_type": "stream",
     "text": [
      "True\n"
     ]
    }
   ],
   "source": [
    "name=\"starquick\"\n",
    "a=name.isalpha()\n",
    "print(a)"
   ]
  },
  {
   "cell_type": "code",
   "execution_count": 4,
   "metadata": {},
   "outputs": [
    {
     "name": "stdout",
     "output_type": "stream",
     "text": [
      "8\n"
     ]
    }
   ],
   "source": [
    "name=\"Hello, welcome to my world.\"\n",
    "a=name.find(\"e\", 4, 10)\n",
    "print(a)"
   ]
  },
  {
   "cell_type": "code",
   "execution_count": 5,
   "metadata": {
    "scrolled": true
   },
   "outputs": [
    {
     "name": "stdout",
     "output_type": "stream",
     "text": [
      "Johnny#Sai#Vickram\n"
     ]
    }
   ],
   "source": [
    "name=(\"Johnny\", \"Sai\", \"Vickram\")\n",
    "a=\"#\".join(name)\n",
    "print(a)"
   ]
  },
  {
   "cell_type": "code",
   "execution_count": 6,
   "metadata": {},
   "outputs": [
    {
     "name": "stdout",
     "output_type": "stream",
     "text": [
      "of all fruits mango is my favorite\n"
     ]
    }
   ],
   "source": [
    "name= \"mango\"\n",
    "a=name.strip()\n",
    "print(\"of all fruits\", a, \"is my favorite\")"
   ]
  },
  {
   "cell_type": "markdown",
   "metadata": {},
   "source": [
    "# ASSIGNMENT 2"
   ]
  },
  {
   "cell_type": "code",
   "execution_count": 17,
   "metadata": {},
   "outputs": [
    {
     "name": "stdout",
     "output_type": "stream",
     "text": [
      "[]\n"
     ]
    }
   ],
   "source": [
    "flowers=['marigold', 'rose', 'lotus', 'jasmine']\n",
    "flowers.clear()\n",
    "print(flowers)"
   ]
  },
  {
   "cell_type": "code",
   "execution_count": 9,
   "metadata": {},
   "outputs": [
    {
     "data": {
      "text/plain": [
       "'lotus'"
      ]
     },
     "execution_count": 9,
     "metadata": {},
     "output_type": "execute_result"
    }
   ],
   "source": [
    "flowers=['marigold', 'rose', 'lotus', 'jasmine']\n",
    "flowers.pop(2)"
   ]
  },
  {
   "cell_type": "code",
   "execution_count": 16,
   "metadata": {},
   "outputs": [
    {
     "name": "stdout",
     "output_type": "stream",
     "text": [
      "['jasmine', 'lotus', 'rose', 'marigold']\n"
     ]
    }
   ],
   "source": [
    "flowers=['marigold', 'rose', 'lotus', 'jasmine']\n",
    "flowers.reverse()\n",
    "print(flowers)"
   ]
  },
  {
   "cell_type": "code",
   "execution_count": 19,
   "metadata": {},
   "outputs": [
    {
     "data": {
      "text/plain": [
       "1"
      ]
     },
     "execution_count": 19,
     "metadata": {},
     "output_type": "execute_result"
    }
   ],
   "source": [
    "flowers=['marigold', 'rose', 'lotus', 'jasmine']\n",
    "flowers.index(\"rose\")"
   ]
  },
  {
   "cell_type": "code",
   "execution_count": 21,
   "metadata": {},
   "outputs": [
    {
     "name": "stdout",
     "output_type": "stream",
     "text": [
      "['marigold', 'rose', 'lotus', 'jasmine', 'Ferrari', 'BMW', 'Mercedes', 'Audi']\n"
     ]
    }
   ],
   "source": [
    "flowers=['marigold', 'rose', 'lotus', 'jasmine']\n",
    "cars=['Ferrari', 'BMW', 'Mercedes','Audi']\n",
    "flowers.extend(cars)\n",
    "print(flowers)"
   ]
  },
  {
   "cell_type": "markdown",
   "metadata": {},
   "source": [
    "# ASSIGNMENT 3"
   ]
  },
  {
   "cell_type": "code",
   "execution_count": 22,
   "metadata": {},
   "outputs": [
    {
     "name": "stdout",
     "output_type": "stream",
     "text": [
      "{'brand': 'BMW', 'model': 'Z4', 'year': 2019, 'color': 'White'}\n"
     ]
    }
   ],
   "source": [
    "car={\n",
    "  \"brand\": \"BMW\",\n",
    "  \"model\": \"Z4\",\n",
    "  \"year\": 2019\n",
    "}\n",
    "car.update({\"color\": \"White\"})\n",
    "print(car)"
   ]
  },
  {
   "cell_type": "code",
   "execution_count": 23,
   "metadata": {},
   "outputs": [
    {
     "name": "stdout",
     "output_type": "stream",
     "text": [
      "dict_keys(['brand', 'model', 'year'])\n"
     ]
    }
   ],
   "source": [
    "car={\n",
    "  \"brand\": \"BMW\",\n",
    "  \"model\": \"Z4\",\n",
    "  \"year\": 2019\n",
    "}\n",
    "a=car.keys()\n",
    "print(a)"
   ]
  },
  {
   "cell_type": "code",
   "execution_count": 24,
   "metadata": {},
   "outputs": [
    {
     "name": "stdout",
     "output_type": "stream",
     "text": [
      "dict_items([('brand', 'BMW'), ('model', 'Z4'), ('year', 2019)])\n"
     ]
    }
   ],
   "source": [
    "car={\n",
    "  \"brand\": \"BMW\",\n",
    "  \"model\": \"Z4\",\n",
    "  \"year\": 2019\n",
    "}\n",
    "a=car.items()\n",
    "print(a)"
   ]
  },
  {
   "cell_type": "code",
   "execution_count": 25,
   "metadata": {},
   "outputs": [
    {
     "name": "stdout",
     "output_type": "stream",
     "text": [
      "Z4\n"
     ]
    }
   ],
   "source": [
    "car={\n",
    "  \"brand\": \"BMW\",\n",
    "  \"model\": \"Z4\",\n",
    "  \"year\": 2019\n",
    "}\n",
    "a=car.get(\"model\")\n",
    "print(a)"
   ]
  },
  {
   "cell_type": "code",
   "execution_count": 26,
   "metadata": {},
   "outputs": [
    {
     "name": "stdout",
     "output_type": "stream",
     "text": [
      "{'brand': 'BMW', 'model': 'Z4', 'year': 2019}\n"
     ]
    }
   ],
   "source": [
    "car={\n",
    "  \"brand\": \"BMW\",\n",
    "  \"model\": \"Z4\",\n",
    "  \"year\": 2019\n",
    "}\n",
    "a=car.copy()\n",
    "print(a)"
   ]
  }
 ],
 "metadata": {
  "kernelspec": {
   "display_name": "Python 3",
   "language": "python",
   "name": "python3"
  },
  "language_info": {
   "codemirror_mode": {
    "name": "ipython",
    "version": 3
   },
   "file_extension": ".py",
   "mimetype": "text/x-python",
   "name": "python",
   "nbconvert_exporter": "python",
   "pygments_lexer": "ipython3",
   "version": "3.8.5"
  }
 },
 "nbformat": 4,
 "nbformat_minor": 4
}
